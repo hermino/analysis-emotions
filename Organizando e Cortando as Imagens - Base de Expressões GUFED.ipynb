{
 "cells": [
  {
   "cell_type": "code",
   "execution_count": 31,
   "metadata": {},
   "outputs": [],
   "source": [
    "import os\n",
    "import cv2 as cv\n",
    "import glob\n",
    "import random \n",
    "import numpy as np\n",
    "import pandas as pd\n",
    "from math import floor\n",
    "from shutil import copyfile"
   ]
  },
  {
   "cell_type": "code",
   "execution_count": 39,
   "metadata": {},
   "outputs": [],
   "source": [
    "paths = glob.glob('/media/hermino/Backup de Arquivos/Dados/Emoções/dados/*')\n",
    "\n",
    "face_det_one = cv.CascadeClassifier('./opencv-master/data/haarcascades/haarcascade_frontalface_default.xml')\n",
    "face_det_two = cv.CascadeClassifier('./opencv-master/data/haarcascades/haarcascade_frontalface_alt_tree.xml')\n",
    "face_det_three = cv.CascadeClassifier('./opencv-master/data/haarcascades/haarcascade_frontalface_alt2.xml')\n",
    "face_det_four = cv.CascadeClassifier('./opencv-master/data/haarcascades/haarcascade_frontalface_alt.xml')"
   ]
  },
  {
   "cell_type": "code",
   "execution_count": 88,
   "metadata": {},
   "outputs": [],
   "source": [
    "def crop_image(image, emotion, path):\n",
    "    frame = cv.imread(image)\n",
    "    gray = cv.cvtColor(frame, cv.COLOR_BGR2GRAY)\n",
    "        \n",
    "        \n",
    "    face_one = face_det_one.detectMultiScale(gray,\n",
    "                                             scaleFactor=1.1, \n",
    "                                             minNeighbors=10, \n",
    "                                             minSize=(5, 5), \n",
    "                                             flags=cv.CASCADE_SCALE_IMAGE)\n",
    "        \n",
    "    face_two = face_det_two.detectMultiScale(gray, \n",
    "                                             scaleFactor=1.1, \n",
    "                                             minNeighbors=10, \n",
    "                                             minSize=(5, 5), \n",
    "                                             flags=cv.CASCADE_SCALE_IMAGE)\n",
    "        \n",
    "    face_three = face_det_three.detectMultiScale(gray, \n",
    "                                             scaleFactor=1.1, \n",
    "                                             minNeighbors=10, \n",
    "                                             minSize=(5, 5), \n",
    "                                             flags=cv.CASCADE_SCALE_IMAGE)\n",
    "        \n",
    "    face_four = face_det_four.detectMultiScale(gray, \n",
    "                                             scaleFactor=1.1, \n",
    "                                             minNeighbors=10, \n",
    "                                             minSize=(5, 5), \n",
    "                                             flags=cv.CASCADE_SCALE_IMAGE)\n",
    "\n",
    "    if len(face_one) == 1:\n",
    "        face_features = face_one\n",
    "    elif len(face_two) == 1:\n",
    "        face_features = face_two\n",
    "    elif len(face_three) == 1:\n",
    "        face_features = face_three\n",
    "    elif len(face_four) == 1:\n",
    "        face_features = face_four\n",
    "    else:\n",
    "        face_features = ''\n",
    "            \n",
    "            \n",
    "    for (x, y, w, h) in face_features:\n",
    "        gray = gray[y:y + h, x:x + w]\n",
    "        try:\n",
    "            out = cv.resize(gray, (350, 350))\n",
    "            cv.imwrite('./emotionss/{}/{}-{}'.format(emotion[65:],\n",
    "                                                     path,\n",
    "                                                     image[len(emotion)+10:]), out)\n",
    "        except: \n",
    "            print(\"Erro: {}\".format(image[len(emotion)+10:]))  "
   ]
  },
  {
   "cell_type": "code",
   "execution_count": 91,
   "metadata": {
    "scrolled": false
   },
   "outputs": [],
   "source": [
    "for path in paths:\n",
    "    emotions = glob.glob('{}/*'.format(path)) \n",
    "    for emotion in emotions:\n",
    "        image = glob.glob('{}/Infrared/*'.format(emotion))[-13]\n",
    "        crop_image(image, emotion, path[54:])"
   ]
  },
  {
   "cell_type": "code",
   "execution_count": null,
   "metadata": {},
   "outputs": [],
   "source": []
  }
 ],
 "metadata": {
  "kernelspec": {
   "display_name": "Python 3",
   "language": "python",
   "name": "python3"
  },
  "language_info": {
   "codemirror_mode": {
    "name": "ipython",
    "version": 3
   },
   "file_extension": ".py",
   "mimetype": "text/x-python",
   "name": "python",
   "nbconvert_exporter": "python",
   "pygments_lexer": "ipython3",
   "version": "3.7.4"
  }
 },
 "nbformat": 4,
 "nbformat_minor": 2
}
