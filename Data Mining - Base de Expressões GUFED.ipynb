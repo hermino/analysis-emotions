{
 "cells": [
  {
   "cell_type": "code",
   "execution_count": 154,
   "metadata": {},
   "outputs": [],
   "source": [
    "import cv2 as cv\n",
    "import h5py as h5\n",
    "import glob as g\n",
    "import numpy as np\n",
    "import pandas as pd\n",
    "from math import floor\n",
    "from shutil import copyfile"
   ]
  },
  {
   "cell_type": "code",
   "execution_count": 140,
   "metadata": {
    "scrolled": true
   },
   "outputs": [],
   "source": [
    "cropped_path = g.glob('Cropped/*')\n",
    "\n",
    "for path in cropped_path:\n",
    "    emotion_path = g.glob('{}/*'.format(path)) \n",
    "\n",
    "    for emotion in emotion_path:\n",
    "        files = g.glob('{}/*'.format(emotion))\n",
    "        \n",
    "        try:            \n",
    "            for i in range(2, len(files), 11):\n",
    "                files.remove('Cropped/1526424038/{}/{}.png'.format(emotion[19:], i))\n",
    "        except:\n",
    "            pass\n",
    "        \n",
    "        \n",
    "        source_emotion = files[floor(len(files)/2)]\n",
    "        dest_emotion = \"./emotions/{}/{}-{}\".format(emotion[19:],\n",
    "                                                    path[8:],\n",
    "                                                    source_emotion[len(emotion)+1:])\n",
    "        \n",
    "        copyfile(source_emotion, dest_emotion)"
   ]
  }
 ],
 "metadata": {
  "kernelspec": {
   "display_name": "Python 3",
   "language": "python",
   "name": "python3"
  },
  "language_info": {
   "codemirror_mode": {
    "name": "ipython",
    "version": 3
   },
   "file_extension": ".py",
   "mimetype": "text/x-python",
   "name": "python",
   "nbconvert_exporter": "python",
   "pygments_lexer": "ipython3",
   "version": "3.7.4"
  }
 },
 "nbformat": 4,
 "nbformat_minor": 2
}
